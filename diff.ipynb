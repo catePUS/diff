{
 "cells": [
  {
   "cell_type": "code",
   "execution_count": 18,
   "metadata": {},
   "outputs": [
    {
     "data": {
      "text/latex": [
       "$\\displaystyle 14.525826126742$"
      ],
      "text/plain": [
       "14.5258261267420"
      ]
     },
     "execution_count": 18,
     "metadata": {},
     "output_type": "execute_result"
    }
   ],
   "source": [
    "from scipy.misc import derivative\n",
    "def f(x):\n",
    "     return x**5 + 4*sin(2*x) + cos(3*x+3)\n",
    "derivative(f, 1.0)\n"
   ]
  },
  {
   "cell_type": "code",
   "execution_count": 20,
   "metadata": {},
   "outputs": [
    {
     "data": {
      "text/latex": [
       "$\\displaystyle 15.876947272377$"
      ],
      "text/plain": [
       "15.8769472723770"
      ]
     },
     "execution_count": 20,
     "metadata": {},
     "output_type": "execute_result"
    }
   ],
   "source": [
    "from scipy.misc import derivative\n",
    "def f(x):\n",
    "     return x**5 + 4*sin(2*x) + cos(3*x+3)\n",
    "derivative(f, 1, n=2)\n"
   ]
  },
  {
   "cell_type": "code",
   "execution_count": 38,
   "metadata": {},
   "outputs": [
    {
     "name": "stdout",
     "output_type": "stream",
     "text": [
      "5*x**4 - 3*sin(3*x + 3) + 8*cos(2*x)\n",
      "20*x**3 - 16*sin(2*x) - 9*cos(3*x + 3)\n"
     ]
    }
   ],
   "source": [
    "import sympy\n",
    "from sympy import * \n",
    "x, y = symbols('x y')\n",
    "exp = x**5 + 4*sin(2*x) + cos(3*x+3)\n",
    "dif = diff(exp, x)\n",
    "diff_2 =diff(dif, x)\n",
    "print(dif)\n",
    "print(diff_2)"
   ]
  },
  {
   "cell_type": "code",
   "execution_count": 43,
   "metadata": {},
   "outputs": [
    {
     "name": "stdout",
     "output_type": "stream",
     "text": [
      "значение первой производной 2.50907180221964\n",
      "значение второй производной -3.19029140906420\n"
     ]
    }
   ],
   "source": [
    "x=symbols('x')\n",
    "dif_val=dif.evalf(subs={'x':1})\n",
    "dif_val_1 =diff_2.evalf(subs={'x':1})\n",
    "print(\"значение первой производной {}\".format(dif_val))\n",
    "print(\"значение второй производной {}\".format(dif_val_1))"
   ]
  },
  {
   "cell_type": "code",
   "execution_count": null,
   "metadata": {},
   "outputs": [],
   "source": []
  }
 ],
 "metadata": {
  "kernelspec": {
   "display_name": "Python 3",
   "language": "python",
   "name": "python3"
  },
  "language_info": {
   "codemirror_mode": {
    "name": "ipython",
    "version": 3
   },
   "file_extension": ".py",
   "mimetype": "text/x-python",
   "name": "python",
   "nbconvert_exporter": "python",
   "pygments_lexer": "ipython3",
   "version": "3.8.5"
  }
 },
 "nbformat": 4,
 "nbformat_minor": 4
}
